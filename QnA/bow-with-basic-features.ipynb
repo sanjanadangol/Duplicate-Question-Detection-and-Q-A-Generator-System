{
 "cells": [
  {
   "cell_type": "code",
   "execution_count": 1,
   "id": "2a3e96ac",
   "metadata": {},
   "outputs": [],
   "source": [
    "import numpy as np\n",
    "import pandas as pd\n",
    "import seaborn as sns\n",
    "import matplotlib.pyplot as plt\n",
    "\n",
    "import warnings\n",
    "warnings.filterwarnings('ignore')"
   ]
  },
  {
   "cell_type": "code",
   "execution_count": 2,
   "id": "ad1cf0d5",
   "metadata": {},
   "outputs": [
    {
     "data": {
      "text/plain": [
       "(2000, 6)"
      ]
     },
     "execution_count": 2,
     "metadata": {},
     "output_type": "execute_result"
    }
   ],
   "source": [
    "df = pd.read_csv(\"train.csv\")\n",
    "df.shape"
   ]
  },
  {
   "cell_type": "code",
   "execution_count": 3,
   "id": "c8dcd0d8",
   "metadata": {},
   "outputs": [
    {
     "data": {
      "text/html": [
       "<div>\n",
       "<style scoped>\n",
       "    .dataframe tbody tr th:only-of-type {\n",
       "        vertical-align: middle;\n",
       "    }\n",
       "\n",
       "    .dataframe tbody tr th {\n",
       "        vertical-align: top;\n",
       "    }\n",
       "\n",
       "    .dataframe thead th {\n",
       "        text-align: right;\n",
       "    }\n",
       "</style>\n",
       "<table border=\"1\" class=\"dataframe\">\n",
       "  <thead>\n",
       "    <tr style=\"text-align: right;\">\n",
       "      <th></th>\n",
       "      <th>id</th>\n",
       "      <th>qid1</th>\n",
       "      <th>qid2</th>\n",
       "      <th>question1</th>\n",
       "      <th>question2</th>\n",
       "      <th>is_duplicate</th>\n",
       "    </tr>\n",
       "  </thead>\n",
       "  <tbody>\n",
       "    <tr>\n",
       "      <th>0</th>\n",
       "      <td>0</td>\n",
       "      <td>1</td>\n",
       "      <td>2</td>\n",
       "      <td>How can I find out whom I sent a friend reques...</td>\n",
       "      <td>Can someone tell if you've been logging into t...</td>\n",
       "      <td>0</td>\n",
       "    </tr>\n",
       "    <tr>\n",
       "      <th>1</th>\n",
       "      <td>1</td>\n",
       "      <td>3</td>\n",
       "      <td>4</td>\n",
       "      <td>What is the one thing you will never do on Quora?</td>\n",
       "      <td>What are some things one can never regret doing?</td>\n",
       "      <td>0</td>\n",
       "    </tr>\n",
       "    <tr>\n",
       "      <th>2</th>\n",
       "      <td>2</td>\n",
       "      <td>5</td>\n",
       "      <td>6</td>\n",
       "      <td>What are the characteristics of a \"Perfect Wor...</td>\n",
       "      <td>What is a real-world example of perfection?</td>\n",
       "      <td>0</td>\n",
       "    </tr>\n",
       "    <tr>\n",
       "      <th>3</th>\n",
       "      <td>3</td>\n",
       "      <td>7</td>\n",
       "      <td>8</td>\n",
       "      <td>What is the best path I should take to improve...</td>\n",
       "      <td>How can I improve my communication skills in E...</td>\n",
       "      <td>1</td>\n",
       "    </tr>\n",
       "    <tr>\n",
       "      <th>4</th>\n",
       "      <td>4</td>\n",
       "      <td>9</td>\n",
       "      <td>10</td>\n",
       "      <td>What would you do if today is last day of earth?</td>\n",
       "      <td>If today were the last day of your life, would...</td>\n",
       "      <td>0</td>\n",
       "    </tr>\n",
       "  </tbody>\n",
       "</table>\n",
       "</div>"
      ],
      "text/plain": [
       "   id  qid1  qid2                                          question1  \\\n",
       "0   0     1     2  How can I find out whom I sent a friend reques...   \n",
       "1   1     3     4  What is the one thing you will never do on Quora?   \n",
       "2   2     5     6  What are the characteristics of a \"Perfect Wor...   \n",
       "3   3     7     8  What is the best path I should take to improve...   \n",
       "4   4     9    10   What would you do if today is last day of earth?   \n",
       "\n",
       "                                           question2  is_duplicate  \n",
       "0  Can someone tell if you've been logging into t...             0  \n",
       "1   What are some things one can never regret doing?             0  \n",
       "2        What is a real-world example of perfection?             0  \n",
       "3  How can I improve my communication skills in E...             1  \n",
       "4  If today were the last day of your life, would...             0  "
      ]
     },
     "execution_count": 3,
     "metadata": {},
     "output_type": "execute_result"
    }
   ],
   "source": [
    "df.head()"
   ]
  },
  {
   "cell_type": "code",
   "execution_count": 4,
   "id": "57196389",
   "metadata": {},
   "outputs": [],
   "source": [
    "df = df.sample(2000,random_state=2)"
   ]
  },
  {
   "cell_type": "code",
   "execution_count": 7,
   "id": "d59134a0",
   "metadata": {},
   "outputs": [
    {
     "data": {
      "text/plain": [
       "id              0\n",
       "qid1            0\n",
       "qid2            0\n",
       "question1       0\n",
       "question2       0\n",
       "is_duplicate    0\n",
       "dtype: int64"
      ]
     },
     "execution_count": 7,
     "metadata": {},
     "output_type": "execute_result"
    }
   ],
   "source": [
    "df.isnull().sum()"
   ]
  },
  {
   "cell_type": "code",
   "execution_count": 9,
   "id": "f1077fa4",
   "metadata": {},
   "outputs": [
    {
     "data": {
      "text/html": [
       "<div>\n",
       "<style scoped>\n",
       "    .dataframe tbody tr th:only-of-type {\n",
       "        vertical-align: middle;\n",
       "    }\n",
       "\n",
       "    .dataframe tbody tr th {\n",
       "        vertical-align: top;\n",
       "    }\n",
       "\n",
       "    .dataframe thead th {\n",
       "        text-align: right;\n",
       "    }\n",
       "</style>\n",
       "<table border=\"1\" class=\"dataframe\">\n",
       "  <thead>\n",
       "    <tr style=\"text-align: right;\">\n",
       "      <th></th>\n",
       "      <th>id</th>\n",
       "      <th>qid1</th>\n",
       "      <th>qid2</th>\n",
       "      <th>question1</th>\n",
       "      <th>question2</th>\n",
       "      <th>is_duplicate</th>\n",
       "    </tr>\n",
       "  </thead>\n",
       "  <tbody>\n",
       "    <tr>\n",
       "      <th>278</th>\n",
       "      <td>278</td>\n",
       "      <td>556</td>\n",
       "      <td>557</td>\n",
       "      <td>What is the the best way to learn programming?</td>\n",
       "      <td>How can I learn more programming?</td>\n",
       "      <td>1</td>\n",
       "    </tr>\n",
       "    <tr>\n",
       "      <th>492</th>\n",
       "      <td>492</td>\n",
       "      <td>982</td>\n",
       "      <td>983</td>\n",
       "      <td>What does the ribbon, which looks like a colou...</td>\n",
       "      <td>Could you show us some examples of unusual loo...</td>\n",
       "      <td>0</td>\n",
       "    </tr>\n",
       "    <tr>\n",
       "      <th>1266</th>\n",
       "      <td>1266</td>\n",
       "      <td>2524</td>\n",
       "      <td>2525</td>\n",
       "      <td>How can I wake up early in the morning?</td>\n",
       "      <td>How do I get up early in the morning?</td>\n",
       "      <td>1</td>\n",
       "    </tr>\n",
       "    <tr>\n",
       "      <th>557</th>\n",
       "      <td>557</td>\n",
       "      <td>1112</td>\n",
       "      <td>1113</td>\n",
       "      <td>What is really happening when I burn my plasti...</td>\n",
       "      <td>Does India have absolute advantage in manufact...</td>\n",
       "      <td>0</td>\n",
       "    </tr>\n",
       "    <tr>\n",
       "      <th>871</th>\n",
       "      <td>871</td>\n",
       "      <td>1737</td>\n",
       "      <td>1738</td>\n",
       "      <td>Who is the most beautiful actress in Hollywood?</td>\n",
       "      <td>Who are the 5 most beautiful actresses in Holl...</td>\n",
       "      <td>1</td>\n",
       "    </tr>\n",
       "  </tbody>\n",
       "</table>\n",
       "</div>"
      ],
      "text/plain": [
       "        id  qid1  qid2                                          question1  \\\n",
       "278    278   556   557     What is the the best way to learn programming?   \n",
       "492    492   982   983  What does the ribbon, which looks like a colou...   \n",
       "1266  1266  2524  2525            How can I wake up early in the morning?   \n",
       "557    557  1112  1113  What is really happening when I burn my plasti...   \n",
       "871    871  1737  1738    Who is the most beautiful actress in Hollywood?   \n",
       "\n",
       "                                              question2  is_duplicate  \n",
       "278                   How can I learn more programming?             1  \n",
       "492   Could you show us some examples of unusual loo...             0  \n",
       "1266              How do I get up early in the morning?             1  \n",
       "557   Does India have absolute advantage in manufact...             0  \n",
       "871   Who are the 5 most beautiful actresses in Holl...             1  "
      ]
     },
     "execution_count": 9,
     "metadata": {},
     "output_type": "execute_result"
    }
   ],
   "source": [
    "df.head()"
   ]
  },
  {
   "cell_type": "code",
   "execution_count": 10,
   "id": "4605553d",
   "metadata": {},
   "outputs": [
    {
     "data": {
      "text/plain": [
       "0"
      ]
     },
     "execution_count": 10,
     "metadata": {},
     "output_type": "execute_result"
    }
   ],
   "source": [
    "df.duplicated().sum()"
   ]
  },
  {
   "cell_type": "code",
   "execution_count": 13,
   "id": "ded4aad1",
   "metadata": {},
   "outputs": [
    {
     "name": "stdout",
     "output_type": "stream",
     "text": [
      "0    1118\n",
      "1     882\n",
      "Name: is_duplicate, dtype: int64\n",
      "0    55.9\n",
      "1    44.1\n",
      "Name: is_duplicate, dtype: float64\n"
     ]
    },
    {
     "data": {
      "text/plain": [
       "<AxesSubplot:>"
      ]
     },
     "execution_count": 13,
     "metadata": {},
     "output_type": "execute_result"
    },
    {
     "data": {
      "image/png": "[encoded data removed]",
      "text/plain": [
       "<Figure size 640x480 with 1 Axes>"
      ]
     },
     "metadata": {},
     "output_type": "display_data"
    }
   ],
   "source": [
    "# Distribution of duplicate and non-duplicate questions\n",
    "\n",
    "print(df['is_duplicate'].value_counts())\n",
    "print((df['is_duplicate'].value_counts()/df['is_duplicate'].count())*100)\n",
    "df['is_duplicate'].value_counts().plot(kind='bar')"
   ]
  },
  {
   "cell_type": "code",
   "execution_count": 14,
   "id": "c409a931",
   "metadata": {},
   "outputs": [
    {
     "name": "stdout",
     "output_type": "stream",
     "text": [
      "Number of unique questions 3978\n",
      "Number of questions getting repeated 22\n"
     ]
    }
   ],
   "source": [
    "# Repeated questions\n",
    "\n",
    "qid = pd.Series(df['qid1'].tolist() + df['qid2'].tolist())\n",
    "print('Number of unique questions',np.unique(qid).shape[0])\n",
    "x = qid.value_counts()>1\n",
    "print('Number of questions getting repeated',x[x].shape[0])"
   ]
  },
  {
   "cell_type": "code",
   "execution_count": 15,
   "id": "49868f32",
   "metadata": {},
   "outputs": [
    {
     "data": {
      "image/png": "[encoded data removed]",
      "text/plain": [
       "<Figure size 640x480 with 1 Axes>"
      ]
     },
     "metadata": {},
     "output_type": "display_data"
    }
   ],
   "source": [
    "# Repeated questions histogram\n",
    "\n",
    "plt.hist(qid.value_counts().values,bins=160)\n",
    "plt.yscale('log')\n",
    "plt.show()"
   ]
  },
  {
   "cell_type": "code",
   "execution_count": 17,
   "id": "3e3d0ae9",
   "metadata": {},
   "outputs": [],
   "source": [
    "# Feature Engineering\n",
    "\n",
    "df['q1_len'] = df['question1'].str.len() \n",
    "df['q2_len'] = df['question2'].str.len()"
   ]
  },
  {
   "cell_type": "code",
   "execution_count": 19,
   "id": "2892c98f",
   "metadata": {},
   "outputs": [
    {
     "data": {
      "text/html": [
       "<div>\n",
       "<style scoped>\n",
       "    .dataframe tbody tr th:only-of-type {\n",
       "        vertical-align: middle;\n",
       "    }\n",
       "\n",
       "    .dataframe tbody tr th {\n",
       "        vertical-align: top;\n",
       "    }\n",
       "\n",
       "    .dataframe thead th {\n",
       "        text-align: right;\n",
       "    }\n",
       "</style>\n",
       "<table border=\"1\" class=\"dataframe\">\n",
       "  <thead>\n",
       "    <tr style=\"text-align: right;\">\n",
       "      <th></th>\n",
       "      <th>id</th>\n",
       "      <th>qid1</th>\n",
       "      <th>qid2</th>\n",
       "      <th>question1</th>\n",
       "      <th>question2</th>\n",
       "      <th>is_duplicate</th>\n",
       "      <th>q1_len</th>\n",
       "      <th>q2_len</th>\n",
       "    </tr>\n",
       "  </thead>\n",
       "  <tbody>\n",
       "    <tr>\n",
       "      <th>278</th>\n",
       "      <td>278</td>\n",
       "      <td>556</td>\n",
       "      <td>557</td>\n",
       "      <td>What is the the best way to learn programming?</td>\n",
       "      <td>How can I learn more programming?</td>\n",
       "      <td>1</td>\n",
       "      <td>46</td>\n",
       "      <td>33</td>\n",
       "    </tr>\n",
       "    <tr>\n",
       "      <th>492</th>\n",
       "      <td>492</td>\n",
       "      <td>982</td>\n",
       "      <td>983</td>\n",
       "      <td>What does the ribbon, which looks like a colou...</td>\n",
       "      <td>Could you show us some examples of unusual loo...</td>\n",
       "      <td>0</td>\n",
       "      <td>93</td>\n",
       "      <td>95</td>\n",
       "    </tr>\n",
       "    <tr>\n",
       "      <th>1266</th>\n",
       "      <td>1266</td>\n",
       "      <td>2524</td>\n",
       "      <td>2525</td>\n",
       "      <td>How can I wake up early in the morning?</td>\n",
       "      <td>How do I get up early in the morning?</td>\n",
       "      <td>1</td>\n",
       "      <td>39</td>\n",
       "      <td>37</td>\n",
       "    </tr>\n",
       "    <tr>\n",
       "      <th>557</th>\n",
       "      <td>557</td>\n",
       "      <td>1112</td>\n",
       "      <td>1113</td>\n",
       "      <td>What is really happening when I burn my plasti...</td>\n",
       "      <td>Does India have absolute advantage in manufact...</td>\n",
       "      <td>0</td>\n",
       "      <td>72</td>\n",
       "      <td>63</td>\n",
       "    </tr>\n",
       "    <tr>\n",
       "      <th>871</th>\n",
       "      <td>871</td>\n",
       "      <td>1737</td>\n",
       "      <td>1738</td>\n",
       "      <td>Who is the most beautiful actress in Hollywood?</td>\n",
       "      <td>Who are the 5 most beautiful actresses in Holl...</td>\n",
       "      <td>1</td>\n",
       "      <td>47</td>\n",
       "      <td>59</td>\n",
       "    </tr>\n",
       "  </tbody>\n",
       "</table>\n",
       "</div>"
      ],
      "text/plain": [
       "        id  qid1  qid2                                          question1  \\\n",
       "278    278   556   557     What is the the best way to learn programming?   \n",
       "492    492   982   983  What does the ribbon, which looks like a colou...   \n",
       "1266  1266  2524  2525            How can I wake up early in the morning?   \n",
       "557    557  1112  1113  What is really happening when I burn my plasti...   \n",
       "871    871  1737  1738    Who is the most beautiful actress in Hollywood?   \n",
       "\n",
       "                                              question2  is_duplicate  q1_len  \\\n",
       "278                   How can I learn more programming?             1      46   \n",
       "492   Could you show us some examples of unusual loo...             0      93   \n",
       "1266              How do I get up early in the morning?             1      39   \n",
       "557   Does India have absolute advantage in manufact...             0      72   \n",
       "871   Who are the 5 most beautiful actresses in Holl...             1      47   \n",
       "\n",
       "      q2_len  \n",
       "278       33  \n",
       "492       95  \n",
       "1266      37  \n",
       "557       63  \n",
       "871       59  "
      ]
     },
     "execution_count": 19,
     "metadata": {},
     "output_type": "execute_result"
    }
   ],
   "source": [
    "df.head()"
   ]
  },
  {
   "cell_type": "code",
   "execution_count": 20,
   "id": "2a7b4e6f",
   "metadata": {},
   "outputs": [
    {
     "data": {
      "text/html": [
       "<div>\n",
       "<style scoped>\n",
       "    .dataframe tbody tr th:only-of-type {\n",
       "        vertical-align: middle;\n",
       "    }\n",
       "\n",
       "    .dataframe tbody tr th {\n",
       "        vertical-align: top;\n",
       "    }\n",
       "\n",
       "    .dataframe thead th {\n",
       "        text-align: right;\n",
       "    }\n",
       "</style>\n",
       "<table border=\"1\" class=\"dataframe\">\n",
       "  <thead>\n",
       "    <tr style=\"text-align: right;\">\n",
       "      <th></th>\n",
       "      <th>id</th>\n",
       "      <th>qid1</th>\n",
       "      <th>qid2</th>\n",
       "      <th>question1</th>\n",
       "      <th>question2</th>\n",
       "      <th>is_duplicate</th>\n",
       "      <th>q1_len</th>\n",
       "      <th>q2_len</th>\n",
       "      <th>q1_num_words</th>\n",
       "      <th>q2_num_words</th>\n",
       "    </tr>\n",
       "  </thead>\n",
       "  <tbody>\n",
       "    <tr>\n",
       "      <th>278</th>\n",
       "      <td>278</td>\n",
       "      <td>556</td>\n",
       "      <td>557</td>\n",
       "      <td>What is the the best way to learn programming?</td>\n",
       "      <td>How can I learn more programming?</td>\n",
       "      <td>1</td>\n",
       "      <td>46</td>\n",
       "      <td>33</td>\n",
       "      <td>9</td>\n",
       "      <td>6</td>\n",
       "    </tr>\n",
       "    <tr>\n",
       "      <th>492</th>\n",
       "      <td>492</td>\n",
       "      <td>982</td>\n",
       "      <td>983</td>\n",
       "      <td>What does the ribbon, which looks like a colou...</td>\n",
       "      <td>Could you show us some examples of unusual loo...</td>\n",
       "      <td>0</td>\n",
       "      <td>93</td>\n",
       "      <td>95</td>\n",
       "      <td>15</td>\n",
       "      <td>16</td>\n",
       "    </tr>\n",
       "    <tr>\n",
       "      <th>1266</th>\n",
       "      <td>1266</td>\n",
       "      <td>2524</td>\n",
       "      <td>2525</td>\n",
       "      <td>How can I wake up early in the morning?</td>\n",
       "      <td>How do I get up early in the morning?</td>\n",
       "      <td>1</td>\n",
       "      <td>39</td>\n",
       "      <td>37</td>\n",
       "      <td>9</td>\n",
       "      <td>9</td>\n",
       "    </tr>\n",
       "    <tr>\n",
       "      <th>557</th>\n",
       "      <td>557</td>\n",
       "      <td>1112</td>\n",
       "      <td>1113</td>\n",
       "      <td>What is really happening when I burn my plasti...</td>\n",
       "      <td>Does India have absolute advantage in manufact...</td>\n",
       "      <td>0</td>\n",
       "      <td>72</td>\n",
       "      <td>63</td>\n",
       "      <td>14</td>\n",
       "      <td>9</td>\n",
       "    </tr>\n",
       "    <tr>\n",
       "      <th>871</th>\n",
       "      <td>871</td>\n",
       "      <td>1737</td>\n",
       "      <td>1738</td>\n",
       "      <td>Who is the most beautiful actress in Hollywood?</td>\n",
       "      <td>Who are the 5 most beautiful actresses in Holl...</td>\n",
       "      <td>1</td>\n",
       "      <td>47</td>\n",
       "      <td>59</td>\n",
       "      <td>8</td>\n",
       "      <td>10</td>\n",
       "    </tr>\n",
       "  </tbody>\n",
       "</table>\n",
       "</div>"
      ],
      "text/plain": [
       "        id  qid1  qid2                                          question1  \\\n",
       "278    278   556   557     What is the the best way to learn programming?   \n",
       "492    492   982   983  What does the ribbon, which looks like a colou...   \n",
       "1266  1266  2524  2525            How can I wake up early in the morning?   \n",
       "557    557  1112  1113  What is really happening when I burn my plasti...   \n",
       "871    871  1737  1738    Who is the most beautiful actress in Hollywood?   \n",
       "\n",
       "                                              question2  is_duplicate  q1_len  \\\n",
       "278                   How can I learn more programming?             1      46   \n",
       "492   Could you show us some examples of unusual loo...             0      93   \n",
       "1266              How do I get up early in the morning?             1      39   \n",
       "557   Does India have absolute advantage in manufact...             0      72   \n",
       "871   Who are the 5 most beautiful actresses in Holl...             1      47   \n",
       "\n",
       "      q2_len  q1_num_words  q2_num_words  \n",
       "278       33             9             6  \n",
       "492       95            15            16  \n",
       "1266      37             9             9  \n",
       "557       63            14             9  \n",
       "871       59             8            10  "
      ]
     },
     "execution_count": 20,
     "metadata": {},
     "output_type": "execute_result"
    }
   ],
   "source": [
    "df['q1_num_words'] = df['question1'].apply(lambda row: len(row.split(\" \")))\n",
    "df['q2_num_words'] = df['question2'].apply(lambda row: len(row.split(\" \")))\n",
    "df.head()"
   ]
  },
  {
   "cell_type": "code",
   "execution_count": 21,
   "id": "e89a8770",
   "metadata": {},
   "outputs": [],
   "source": [
    "def common_words(row):\n",
    "    w1 = set(map(lambda word: word.lower().strip(), row['question1'].split(\" \")))\n",
    "    w2 = set(map(lambda word: word.lower().strip(), row['question2'].split(\" \")))    \n",
    "    return len(w1 & w2)"
   ]
  },
  {
   "cell_type": "code",
   "execution_count": 25,
   "id": "c3c48741",
   "metadata": {},
   "outputs": [
    {
     "data": {
      "text/plain": [
       "['what', 'is', 'the', 'the', 'best', 'way', 'to', 'learn', 'programming?']"
      ]
     },
     "execution_count": 25,
     "metadata": {},
     "output_type": "execute_result"
    }
   ],
   "source": [
    "list(map(lambda word: word.lower().strip(), \"What is the the best way to learn programming?\".split(\" \")))"
   ]
  },
  {
   "cell_type": "code",
   "execution_count": 28,
   "id": "ab4d9372",
   "metadata": {},
   "outputs": [
    {
     "data": {
      "text/plain": [
       "{'best', 'is', 'learn', 'programming?', 'the', 'to', 'way', 'what'}"
      ]
     },
     "execution_count": 28,
     "metadata": {},
     "output_type": "execute_result"
    }
   ],
   "source": [
    "set(map(lambda word: word.lower().strip(), \"What is the the best way to learn programming?\".split(\" \")))"
   ]
  },
  {
   "cell_type": "code",
   "execution_count": 29,
   "id": "2a6974b6",
   "metadata": {},
   "outputs": [
    {
     "data": {
      "text/html": [
       "<div>\n",
       "<style scoped>\n",
       "    .dataframe tbody tr th:only-of-type {\n",
       "        vertical-align: middle;\n",
       "    }\n",
       "\n",
       "    .dataframe tbody tr th {\n",
       "        vertical-align: top;\n",
       "    }\n",
       "\n",
       "    .dataframe thead th {\n",
       "        text-align: right;\n",
       "    }\n",
       "</style>\n",
       "<table border=\"1\" class=\"dataframe\">\n",
       "  <thead>\n",
       "    <tr style=\"text-align: right;\">\n",
       "      <th></th>\n",
       "      <th>id</th>\n",
       "      <th>qid1</th>\n",
       "      <th>qid2</th>\n",
       "      <th>question1</th>\n",
       "      <th>question2</th>\n",
       "      <th>is_duplicate</th>\n",
       "      <th>q1_len</th>\n",
       "      <th>q2_len</th>\n",
       "      <th>q1_num_words</th>\n",
       "      <th>q2_num_words</th>\n",
       "      <th>word_common</th>\n",
       "    </tr>\n",
       "  </thead>\n",
       "  <tbody>\n",
       "    <tr>\n",
       "      <th>278</th>\n",
       "      <td>278</td>\n",
       "      <td>556</td>\n",
       "      <td>557</td>\n",
       "      <td>What is the the best way to learn programming?</td>\n",
       "      <td>How can I learn more programming?</td>\n",
       "      <td>1</td>\n",
       "      <td>46</td>\n",
       "      <td>33</td>\n",
       "      <td>9</td>\n",
       "      <td>6</td>\n",
       "      <td>2</td>\n",
       "    </tr>\n",
       "    <tr>\n",
       "      <th>492</th>\n",
       "      <td>492</td>\n",
       "      <td>982</td>\n",
       "      <td>983</td>\n",
       "      <td>What does the ribbon, which looks like a colou...</td>\n",
       "      <td>Could you show us some examples of unusual loo...</td>\n",
       "      <td>0</td>\n",
       "      <td>93</td>\n",
       "      <td>95</td>\n",
       "      <td>15</td>\n",
       "      <td>16</td>\n",
       "      <td>1</td>\n",
       "    </tr>\n",
       "    <tr>\n",
       "      <th>1266</th>\n",
       "      <td>1266</td>\n",
       "      <td>2524</td>\n",
       "      <td>2525</td>\n",
       "      <td>How can I wake up early in the morning?</td>\n",
       "      <td>How do I get up early in the morning?</td>\n",
       "      <td>1</td>\n",
       "      <td>39</td>\n",
       "      <td>37</td>\n",
       "      <td>9</td>\n",
       "      <td>9</td>\n",
       "      <td>7</td>\n",
       "    </tr>\n",
       "    <tr>\n",
       "      <th>557</th>\n",
       "      <td>557</td>\n",
       "      <td>1112</td>\n",
       "      <td>1113</td>\n",
       "      <td>What is really happening when I burn my plasti...</td>\n",
       "      <td>Does India have absolute advantage in manufact...</td>\n",
       "      <td>0</td>\n",
       "      <td>72</td>\n",
       "      <td>63</td>\n",
       "      <td>14</td>\n",
       "      <td>9</td>\n",
       "      <td>1</td>\n",
       "    </tr>\n",
       "    <tr>\n",
       "      <th>871</th>\n",
       "      <td>871</td>\n",
       "      <td>1737</td>\n",
       "      <td>1738</td>\n",
       "      <td>Who is the most beautiful actress in Hollywood?</td>\n",
       "      <td>Who are the 5 most beautiful actresses in Holl...</td>\n",
       "      <td>1</td>\n",
       "      <td>47</td>\n",
       "      <td>59</td>\n",
       "      <td>8</td>\n",
       "      <td>10</td>\n",
       "      <td>5</td>\n",
       "    </tr>\n",
       "  </tbody>\n",
       "</table>\n",
       "</div>"
      ],
      "text/plain": [
       "        id  qid1  qid2                                          question1  \\\n",
       "278    278   556   557     What is the the best way to learn programming?   \n",
       "492    492   982   983  What does the ribbon, which looks like a colou...   \n",
       "1266  1266  2524  2525            How can I wake up early in the morning?   \n",
       "557    557  1112  1113  What is really happening when I burn my plasti...   \n",
       "871    871  1737  1738    Who is the most beautiful actress in Hollywood?   \n",
       "\n",
       "                                              question2  is_duplicate  q1_len  \\\n",
       "278                   How can I learn more programming?             1      46   \n",
       "492   Could you show us some examples of unusual loo...             0      93   \n",
       "1266              How do I get up early in the morning?             1      39   \n",
       "557   Does India have absolute advantage in manufact...             0      72   \n",
       "871   Who are the 5 most beautiful actresses in Holl...             1      47   \n",
       "\n",
       "      q2_len  q1_num_words  q2_num_words  word_common  \n",
       "278       33             9             6            2  \n",
       "492       95            15            16            1  \n",
       "1266      37             9             9            7  \n",
       "557       63            14             9            1  \n",
       "871       59             8            10            5  "
      ]
     },
     "execution_count": 29,
     "metadata": {},
     "output_type": "execute_result"
    }
   ],
   "source": [
    "df['word_common'] = df.apply(common_words, axis=1)\n",
    "df.head()"
   ]
  },
  {
   "cell_type": "code",
   "execution_count": 30,
   "id": "42d9c19c",
   "metadata": {},
   "outputs": [],
   "source": [
    "def total_words(row):\n",
    "    w1 = set(map(lambda word: word.lower().strip(), row['question1'].split(\" \")))\n",
    "    w2 = set(map(lambda word: word.lower().strip(), row['question2'].split(\" \")))    \n",
    "    return (len(w1) + len(w2))"
   ]
  },
  {
   "cell_type": "code",
   "execution_count": 31,
   "id": "e8073ddb",
   "metadata": {},
   "outputs": [
    {
     "data": {
      "text/html": [
       "<div>\n",
       "<style scoped>\n",
       "    .dataframe tbody tr th:only-of-type {\n",
       "        vertical-align: middle;\n",
       "    }\n",
       "\n",
       "    .dataframe tbody tr th {\n",
       "        vertical-align: top;\n",
       "    }\n",
       "\n",
       "    .dataframe thead th {\n",
       "        text-align: right;\n",
       "    }\n",
       "</style>\n",
       "<table border=\"1\" class=\"dataframe\">\n",
       "  <thead>\n",
       "    <tr style=\"text-align: right;\">\n",
       "      <th></th>\n",
       "      <th>id</th>\n",
       "      <th>qid1</th>\n",
       "      <th>qid2</th>\n",
       "      <th>question1</th>\n",
       "      <th>question2</th>\n",
       "      <th>is_duplicate</th>\n",
       "      <th>q1_len</th>\n",
       "      <th>q2_len</th>\n",
       "      <th>q1_num_words</th>\n",
       "      <th>q2_num_words</th>\n",
       "      <th>word_common</th>\n",
       "      <th>word_total</th>\n",
       "    </tr>\n",
       "  </thead>\n",
       "  <tbody>\n",
       "    <tr>\n",
       "      <th>278</th>\n",
       "      <td>278</td>\n",
       "      <td>556</td>\n",
       "      <td>557</td>\n",
       "      <td>What is the the best way to learn programming?</td>\n",
       "      <td>How can I learn more programming?</td>\n",
       "      <td>1</td>\n",
       "      <td>46</td>\n",
       "      <td>33</td>\n",
       "      <td>9</td>\n",
       "      <td>6</td>\n",
       "      <td>2</td>\n",
       "      <td>14</td>\n",
       "    </tr>\n",
       "    <tr>\n",
       "      <th>492</th>\n",
       "      <td>492</td>\n",
       "      <td>982</td>\n",
       "      <td>983</td>\n",
       "      <td>What does the ribbon, which looks like a colou...</td>\n",
       "      <td>Could you show us some examples of unusual loo...</td>\n",
       "      <td>0</td>\n",
       "      <td>93</td>\n",
       "      <td>95</td>\n",
       "      <td>15</td>\n",
       "      <td>16</td>\n",
       "      <td>1</td>\n",
       "      <td>30</td>\n",
       "    </tr>\n",
       "    <tr>\n",
       "      <th>1266</th>\n",
       "      <td>1266</td>\n",
       "      <td>2524</td>\n",
       "      <td>2525</td>\n",
       "      <td>How can I wake up early in the morning?</td>\n",
       "      <td>How do I get up early in the morning?</td>\n",
       "      <td>1</td>\n",
       "      <td>39</td>\n",
       "      <td>37</td>\n",
       "      <td>9</td>\n",
       "      <td>9</td>\n",
       "      <td>7</td>\n",
       "      <td>18</td>\n",
       "    </tr>\n",
       "    <tr>\n",
       "      <th>557</th>\n",
       "      <td>557</td>\n",
       "      <td>1112</td>\n",
       "      <td>1113</td>\n",
       "      <td>What is really happening when I burn my plasti...</td>\n",
       "      <td>Does India have absolute advantage in manufact...</td>\n",
       "      <td>0</td>\n",
       "      <td>72</td>\n",
       "      <td>63</td>\n",
       "      <td>14</td>\n",
       "      <td>9</td>\n",
       "      <td>1</td>\n",
       "      <td>22</td>\n",
       "    </tr>\n",
       "    <tr>\n",
       "      <th>871</th>\n",
       "      <td>871</td>\n",
       "      <td>1737</td>\n",
       "      <td>1738</td>\n",
       "      <td>Who is the most beautiful actress in Hollywood?</td>\n",
       "      <td>Who are the 5 most beautiful actresses in Holl...</td>\n",
       "      <td>1</td>\n",
       "      <td>47</td>\n",
       "      <td>59</td>\n",
       "      <td>8</td>\n",
       "      <td>10</td>\n",
       "      <td>5</td>\n",
       "      <td>18</td>\n",
       "    </tr>\n",
       "  </tbody>\n",
       "</table>\n",
       "</div>"
      ],
      "text/plain": [
       "        id  qid1  qid2                                          question1  \\\n",
       "278    278   556   557     What is the the best way to learn programming?   \n",
       "492    492   982   983  What does the ribbon, which looks like a colou...   \n",
       "1266  1266  2524  2525            How can I wake up early in the morning?   \n",
       "557    557  1112  1113  What is really happening when I burn my plasti...   \n",
       "871    871  1737  1738    Who is the most beautiful actress in Hollywood?   \n",
       "\n",
       "                                              question2  is_duplicate  q1_len  \\\n",
       "278                   How can I learn more programming?             1      46   \n",
       "492   Could you show us some examples of unusual loo...             0      93   \n",
       "1266              How do I get up early in the morning?             1      39   \n",
       "557   Does India have absolute advantage in manufact...             0      72   \n",
       "871   Who are the 5 most beautiful actresses in Holl...             1      47   \n",
       "\n",
       "      q2_len  q1_num_words  q2_num_words  word_common  word_total  \n",
       "278       33             9             6            2          14  \n",
       "492       95            15            16            1          30  \n",
       "1266      37             9             9            7          18  \n",
       "557       63            14             9            1          22  \n",
       "871       59             8            10            5          18  "
      ]
     },
     "execution_count": 31,
     "metadata": {},
     "output_type": "execute_result"
    }
   ],
   "source": [
    "df['word_total'] = df.apply(total_words, axis=1)\n",
    "df.head()"
   ]
  },
  {
   "cell_type": "code",
   "execution_count": 33,
   "id": "3bc5fa7c",
   "metadata": {},
   "outputs": [
    {
     "data": {
      "text/html": [
       "<div>\n",
       "<style scoped>\n",
       "    .dataframe tbody tr th:only-of-type {\n",
       "        vertical-align: middle;\n",
       "    }\n",
       "\n",
       "    .dataframe tbody tr th {\n",
       "        vertical-align: top;\n",
       "    }\n",
       "\n",
       "    .dataframe thead th {\n",
       "        text-align: right;\n",
       "    }\n",
       "</style>\n",
       "<table border=\"1\" class=\"dataframe\">\n",
       "  <thead>\n",
       "    <tr style=\"text-align: right;\">\n",
       "      <th></th>\n",
       "      <th>id</th>\n",
       "      <th>qid1</th>\n",
       "      <th>qid2</th>\n",
       "      <th>question1</th>\n",
       "      <th>question2</th>\n",
       "      <th>is_duplicate</th>\n",
       "      <th>q1_len</th>\n",
       "      <th>q2_len</th>\n",
       "      <th>q1_num_words</th>\n",
       "      <th>q2_num_words</th>\n",
       "      <th>word_common</th>\n",
       "      <th>word_total</th>\n",
       "      <th>word_share</th>\n",
       "    </tr>\n",
       "  </thead>\n",
       "  <tbody>\n",
       "    <tr>\n",
       "      <th>278</th>\n",
       "      <td>278</td>\n",
       "      <td>556</td>\n",
       "      <td>557</td>\n",
       "      <td>What is the the best way to learn programming?</td>\n",
       "      <td>How can I learn more programming?</td>\n",
       "      <td>1</td>\n",
       "      <td>46</td>\n",
       "      <td>33</td>\n",
       "      <td>9</td>\n",
       "      <td>6</td>\n",
       "      <td>2</td>\n",
       "      <td>14</td>\n",
       "      <td>0.14</td>\n",
       "    </tr>\n",
       "    <tr>\n",
       "      <th>492</th>\n",
       "      <td>492</td>\n",
       "      <td>982</td>\n",
       "      <td>983</td>\n",
       "      <td>What does the ribbon, which looks like a colou...</td>\n",
       "      <td>Could you show us some examples of unusual loo...</td>\n",
       "      <td>0</td>\n",
       "      <td>93</td>\n",
       "      <td>95</td>\n",
       "      <td>15</td>\n",
       "      <td>16</td>\n",
       "      <td>1</td>\n",
       "      <td>30</td>\n",
       "      <td>0.03</td>\n",
       "    </tr>\n",
       "    <tr>\n",
       "      <th>1266</th>\n",
       "      <td>1266</td>\n",
       "      <td>2524</td>\n",
       "      <td>2525</td>\n",
       "      <td>How can I wake up early in the morning?</td>\n",
       "      <td>How do I get up early in the morning?</td>\n",
       "      <td>1</td>\n",
       "      <td>39</td>\n",
       "      <td>37</td>\n",
       "      <td>9</td>\n",
       "      <td>9</td>\n",
       "      <td>7</td>\n",
       "      <td>18</td>\n",
       "      <td>0.39</td>\n",
       "    </tr>\n",
       "    <tr>\n",
       "      <th>557</th>\n",
       "      <td>557</td>\n",
       "      <td>1112</td>\n",
       "      <td>1113</td>\n",
       "      <td>What is really happening when I burn my plasti...</td>\n",
       "      <td>Does India have absolute advantage in manufact...</td>\n",
       "      <td>0</td>\n",
       "      <td>72</td>\n",
       "      <td>63</td>\n",
       "      <td>14</td>\n",
       "      <td>9</td>\n",
       "      <td>1</td>\n",
       "      <td>22</td>\n",
       "      <td>0.05</td>\n",
       "    </tr>\n",
       "    <tr>\n",
       "      <th>871</th>\n",
       "      <td>871</td>\n",
       "      <td>1737</td>\n",
       "      <td>1738</td>\n",
       "      <td>Who is the most beautiful actress in Hollywood?</td>\n",
       "      <td>Who are the 5 most beautiful actresses in Holl...</td>\n",
       "      <td>1</td>\n",
       "      <td>47</td>\n",
       "      <td>59</td>\n",
       "      <td>8</td>\n",
       "      <td>10</td>\n",
       "      <td>5</td>\n",
       "      <td>18</td>\n",
       "      <td>0.28</td>\n",
       "    </tr>\n",
       "  </tbody>\n",
       "</table>\n",
       "</div>"
      ],
      "text/plain": [
       "        id  qid1  qid2                                          question1  \\\n",
       "278    278   556   557     What is the the best way to learn programming?   \n",
       "492    492   982   983  What does the ribbon, which looks like a colou...   \n",
       "1266  1266  2524  2525            How can I wake up early in the morning?   \n",
       "557    557  1112  1113  What is really happening when I burn my plasti...   \n",
       "871    871  1737  1738    Who is the most beautiful actress in Hollywood?   \n",
       "\n",
       "                                              question2  is_duplicate  q1_len  \\\n",
       "278                   How can I learn more programming?             1      46   \n",
       "492   Could you show us some examples of unusual loo...             0      93   \n",
       "1266              How do I get up early in the morning?             1      39   \n",
       "557   Does India have absolute advantage in manufact...             0      72   \n",
       "871   Who are the 5 most beautiful actresses in Holl...             1      47   \n",
       "\n",
       "      q2_len  q1_num_words  q2_num_words  word_common  word_total  word_share  \n",
       "278       33             9             6            2          14        0.14  \n",
       "492       95            15            16            1          30        0.03  \n",
       "1266      37             9             9            7          18        0.39  \n",
       "557       63            14             9            1          22        0.05  \n",
       "871       59             8            10            5          18        0.28  "
      ]
     },
     "execution_count": 33,
     "metadata": {},
     "output_type": "execute_result"
    }
   ],
   "source": [
    "df['word_share'] = round(df['word_common']/df['word_total'],2)\n",
    "df.head()"
   ]
  },
  {
   "cell_type": "code",
   "execution_count": 34,
   "id": "eeb973b6",
   "metadata": {},
   "outputs": [
    {
     "name": "stdout",
     "output_type": "stream",
     "text": [
      "minimum characters 13\n",
      "maximum characters 198\n",
      "average num of characters 50\n"
     ]
    },
    {
     "data": {
      "image/png": "[encoded data removed]",
      "text/plain": [
       "<Figure size 500x500 with 1 Axes>"
      ]
     },
     "metadata": {},
     "output_type": "display_data"
    }
   ],
   "source": [
    "# Analysis of features\n",
    "sns.displot(df['q1_len'])\n",
    "print('minimum characters',df['q1_len'].min())\n",
    "print('maximum characters',df['q1_len'].max())\n",
    "print('average num of characters',int(df['q1_len'].mean()))"
   ]
  },
  {
   "cell_type": "code",
   "execution_count": 35,
   "id": "e143cbd7",
   "metadata": {},
   "outputs": [
    {
     "name": "stdout",
     "output_type": "stream",
     "text": [
      "minimum characters 12\n",
      "maximum characters 484\n",
      "average num of characters 51\n"
     ]
    },
    {
     "data": {
      "image/png": "[encoded data removed]",
      "text/plain": [
       "<Figure size 500x500 with 1 Axes>"
      ]
     },
     "metadata": {},
     "output_type": "display_data"
    }
   ],
   "source": [
    "sns.displot(df['q2_len'])\n",
    "print('minimum characters',df['q2_len'].min())\n",
    "print('maximum characters',df['q2_len'].max())\n",
    "print('average num of characters',int(df['q2_len'].mean()))"
   ]
  },
  {
   "cell_type": "code",
   "execution_count": 38,
   "id": "1bc17a08",
   "metadata": {},
   "outputs": [
    {
     "name": "stdout",
     "output_type": "stream",
     "text": [
      "minimum words 3\n",
      "maximum words 38\n",
      "average num of words 9\n"
     ]
    },
    {
     "data": {
      "image/png": "[encoded data removed]",
      "text/plain": [
       "<Figure size 500x500 with 1 Axes>"
      ]
     },
     "metadata": {},
     "output_type": "display_data"
    }
   ],
   "source": [
    "sns.displot(df['q1_num_words'])\n",
    "print('minimum words',df['q1_num_words'].min())\n",
    "print('maximum words',df['q1_num_words'].max())\n",
    "print('average num of words',int(df['q1_num_words'].mean()))"
   ]
  },
  {
   "cell_type": "code",
   "execution_count": 39,
   "id": "ed5e2efd",
   "metadata": {},
   "outputs": [
    {
     "name": "stdout",
     "output_type": "stream",
     "text": [
      "minimum words 3\n",
      "maximum words 107\n",
      "average num of words 9\n"
     ]
    },
    {
     "data": {
      "image/png": "[encoded data removed]",
      "text/plain": [
       "<Figure size 500x500 with 1 Axes>"
      ]
     },
     "metadata": {},
     "output_type": "display_data"
    }
   ],
   "source": [
    "sns.displot(df['q2_num_words'])\n",
    "print('minimum words',df['q2_num_words'].min())\n",
    "print('maximum words',df['q2_num_words'].max())\n",
    "print('average num of words',int(df['q2_num_words'].mean()))"
   ]
  },
  {
   "cell_type": "code",
   "execution_count": 40,
   "id": "88e35e3f",
   "metadata": {},
   "outputs": [
    {
     "data": {
      "image/png": "[encoded data removed]",
      "text/plain": [
       "<Figure size 640x480 with 1 Axes>"
      ]
     },
     "metadata": {},
     "output_type": "display_data"
    }
   ],
   "source": [
    "# common words\n",
    "sns.distplot(df[df['is_duplicate'] == 0]['word_common'],label='non duplicate')\n",
    "sns.distplot(df[df['is_duplicate'] == 1]['word_common'],label='duplicate')\n",
    "plt.legend()\n",
    "plt.show()"
   ]
  },
  {
   "cell_type": "code",
   "execution_count": 41,
   "id": "2a530908",
   "metadata": {},
   "outputs": [
    {
     "data": {
      "image/png": "[encoded data removed]",
      "text/plain": [
       "<Figure size 640x480 with 1 Axes>"
      ]
     },
     "metadata": {},
     "output_type": "display_data"
    }
   ],
   "source": [
    "# total words\n",
    "sns.distplot(df[df['is_duplicate'] == 0]['word_total'],label='non duplicate')\n",
    "sns.distplot(df[df['is_duplicate'] == 1]['word_total'],label='duplicate')\n",
    "plt.legend()\n",
    "plt.show()"
   ]
  },
  {
   "cell_type": "code",
   "execution_count": 42,
   "id": "684b8bc9",
   "metadata": {},
   "outputs": [
    {
     "data": {
      "image/png": "[encoded data removed]",
      "text/plain": [
       "<Figure size 640x480 with 1 Axes>"
      ]
     },
     "metadata": {},
     "output_type": "display_data"
    }
   ],
   "source": [
    "# word share\n",
    "sns.distplot(df[df['is_duplicate'] == 0]['word_share'],label='non duplicate')\n",
    "sns.distplot(df[df['is_duplicate'] == 1]['word_share'],label='duplicate')\n",
    "plt.legend()\n",
    "plt.show()"
   ]
  },
  {
   "cell_type": "code",
   "execution_count": 43,
   "id": "5e1c91ac",
   "metadata": {},
   "outputs": [
    {
     "data": {
      "text/html": [
       "<div>\n",
       "<style scoped>\n",
       "    .dataframe tbody tr th:only-of-type {\n",
       "        vertical-align: middle;\n",
       "    }\n",
       "\n",
       "    .dataframe tbody tr th {\n",
       "        vertical-align: top;\n",
       "    }\n",
       "\n",
       "    .dataframe thead th {\n",
       "        text-align: right;\n",
       "    }\n",
       "</style>\n",
       "<table border=\"1\" class=\"dataframe\">\n",
       "  <thead>\n",
       "    <tr style=\"text-align: right;\">\n",
       "      <th></th>\n",
       "      <th>question1</th>\n",
       "      <th>question2</th>\n",
       "    </tr>\n",
       "  </thead>\n",
       "  <tbody>\n",
       "    <tr>\n",
       "      <th>278</th>\n",
       "      <td>What is the the best way to learn programming?</td>\n",
       "      <td>How can I learn more programming?</td>\n",
       "    </tr>\n",
       "    <tr>\n",
       "      <th>492</th>\n",
       "      <td>What does the ribbon, which looks like a colou...</td>\n",
       "      <td>Could you show us some examples of unusual loo...</td>\n",
       "    </tr>\n",
       "    <tr>\n",
       "      <th>1266</th>\n",
       "      <td>How can I wake up early in the morning?</td>\n",
       "      <td>How do I get up early in the morning?</td>\n",
       "    </tr>\n",
       "    <tr>\n",
       "      <th>557</th>\n",
       "      <td>What is really happening when I burn my plasti...</td>\n",
       "      <td>Does India have absolute advantage in manufact...</td>\n",
       "    </tr>\n",
       "    <tr>\n",
       "      <th>871</th>\n",
       "      <td>Who is the most beautiful actress in Hollywood?</td>\n",
       "      <td>Who are the 5 most beautiful actresses in Holl...</td>\n",
       "    </tr>\n",
       "  </tbody>\n",
       "</table>\n",
       "</div>"
      ],
      "text/plain": [
       "                                              question1  \\\n",
       "278      What is the the best way to learn programming?   \n",
       "492   What does the ribbon, which looks like a colou...   \n",
       "1266            How can I wake up early in the morning?   \n",
       "557   What is really happening when I burn my plasti...   \n",
       "871     Who is the most beautiful actress in Hollywood?   \n",
       "\n",
       "                                              question2  \n",
       "278                   How can I learn more programming?  \n",
       "492   Could you show us some examples of unusual loo...  \n",
       "1266              How do I get up early in the morning?  \n",
       "557   Does India have absolute advantage in manufact...  \n",
       "871   Who are the 5 most beautiful actresses in Holl...  "
      ]
     },
     "execution_count": 43,
     "metadata": {},
     "output_type": "execute_result"
    }
   ],
   "source": [
    "ques_df = df[['question1','question2']]\n",
    "ques_df.head()"
   ]
  },
  {
   "cell_type": "code",
   "execution_count": 44,
   "id": "dcc20d36",
   "metadata": {},
   "outputs": [
    {
     "name": "stdout",
     "output_type": "stream",
     "text": [
      "(2000, 8)\n"
     ]
    },
    {
     "data": {
      "text/html": [
       "<div>\n",
       "<style scoped>\n",
       "    .dataframe tbody tr th:only-of-type {\n",
       "        vertical-align: middle;\n",
       "    }\n",
       "\n",
       "    .dataframe tbody tr th {\n",
       "        vertical-align: top;\n",
       "    }\n",
       "\n",
       "    .dataframe thead th {\n",
       "        text-align: right;\n",
       "    }\n",
       "</style>\n",
       "<table border=\"1\" class=\"dataframe\">\n",
       "  <thead>\n",
       "    <tr style=\"text-align: right;\">\n",
       "      <th></th>\n",
       "      <th>is_duplicate</th>\n",
       "      <th>q1_len</th>\n",
       "      <th>q2_len</th>\n",
       "      <th>q1_num_words</th>\n",
       "      <th>q2_num_words</th>\n",
       "      <th>word_common</th>\n",
       "      <th>word_total</th>\n",
       "      <th>word_share</th>\n",
       "    </tr>\n",
       "  </thead>\n",
       "  <tbody>\n",
       "    <tr>\n",
       "      <th>278</th>\n",
       "      <td>1</td>\n",
       "      <td>46</td>\n",
       "      <td>33</td>\n",
       "      <td>9</td>\n",
       "      <td>6</td>\n",
       "      <td>2</td>\n",
       "      <td>14</td>\n",
       "      <td>0.14</td>\n",
       "    </tr>\n",
       "    <tr>\n",
       "      <th>492</th>\n",
       "      <td>0</td>\n",
       "      <td>93</td>\n",
       "      <td>95</td>\n",
       "      <td>15</td>\n",
       "      <td>16</td>\n",
       "      <td>1</td>\n",
       "      <td>30</td>\n",
       "      <td>0.03</td>\n",
       "    </tr>\n",
       "    <tr>\n",
       "      <th>1266</th>\n",
       "      <td>1</td>\n",
       "      <td>39</td>\n",
       "      <td>37</td>\n",
       "      <td>9</td>\n",
       "      <td>9</td>\n",
       "      <td>7</td>\n",
       "      <td>18</td>\n",
       "      <td>0.39</td>\n",
       "    </tr>\n",
       "    <tr>\n",
       "      <th>557</th>\n",
       "      <td>0</td>\n",
       "      <td>72</td>\n",
       "      <td>63</td>\n",
       "      <td>14</td>\n",
       "      <td>9</td>\n",
       "      <td>1</td>\n",
       "      <td>22</td>\n",
       "      <td>0.05</td>\n",
       "    </tr>\n",
       "    <tr>\n",
       "      <th>871</th>\n",
       "      <td>1</td>\n",
       "      <td>47</td>\n",
       "      <td>59</td>\n",
       "      <td>8</td>\n",
       "      <td>10</td>\n",
       "      <td>5</td>\n",
       "      <td>18</td>\n",
       "      <td>0.28</td>\n",
       "    </tr>\n",
       "  </tbody>\n",
       "</table>\n",
       "</div>"
      ],
      "text/plain": [
       "      is_duplicate  q1_len  q2_len  q1_num_words  q2_num_words  word_common  \\\n",
       "278              1      46      33             9             6            2   \n",
       "492              0      93      95            15            16            1   \n",
       "1266             1      39      37             9             9            7   \n",
       "557              0      72      63            14             9            1   \n",
       "871              1      47      59             8            10            5   \n",
       "\n",
       "      word_total  word_share  \n",
       "278           14        0.14  \n",
       "492           30        0.03  \n",
       "1266          18        0.39  \n",
       "557           22        0.05  \n",
       "871           18        0.28  "
      ]
     },
     "execution_count": 44,
     "metadata": {},
     "output_type": "execute_result"
    }
   ],
   "source": [
    "final_df = df.drop(columns=['id','qid1','qid2','question1','question2'])\n",
    "print(final_df.shape)\n",
    "final_df.head()"
   ]
  },
  {
   "cell_type": "code",
   "execution_count": 45,
   "id": "99fa2b07",
   "metadata": {},
   "outputs": [],
   "source": [
    "from sklearn.feature_extraction.text import CountVectorizer\n",
    "# merge texts\n",
    "questions = list(ques_df['question1']) + list(ques_df['question2'])\n",
    "\n",
    "cv = CountVectorizer(max_features=3000)\n",
    "q1_arr, q2_arr = np.vsplit(cv.fit_transform(questions).toarray(),2)"
   ]
  },
  {
   "cell_type": "code",
   "execution_count": 46,
   "id": "70dbdc2b",
   "metadata": {},
   "outputs": [
    {
     "data": {
      "text/plain": [
       "(2000, 6000)"
      ]
     },
     "execution_count": 46,
     "metadata": {},
     "output_type": "execute_result"
    }
   ],
   "source": [
    "temp_df1 = pd.DataFrame(q1_arr, index= ques_df.index)\n",
    "temp_df2 = pd.DataFrame(q2_arr, index= ques_df.index)\n",
    "temp_df = pd.concat([temp_df1, temp_df2], axis=1)\n",
    "temp_df.shape"
   ]
  },
  {
   "cell_type": "code",
   "execution_count": 47,
   "id": "82488680",
   "metadata": {},
   "outputs": [
    {
     "name": "stdout",
     "output_type": "stream",
     "text": [
      "(2000, 6008)\n"
     ]
    },
    {
     "data": {
      "text/html": [
       "<div>\n",
       "<style scoped>\n",
       "    .dataframe tbody tr th:only-of-type {\n",
       "        vertical-align: middle;\n",
       "    }\n",
       "\n",
       "    .dataframe tbody tr th {\n",
       "        vertical-align: top;\n",
       "    }\n",
       "\n",
       "    .dataframe thead th {\n",
       "        text-align: right;\n",
       "    }\n",
       "</style>\n",
       "<table border=\"1\" class=\"dataframe\">\n",
       "  <thead>\n",
       "    <tr style=\"text-align: right;\">\n",
       "      <th></th>\n",
       "      <th>is_duplicate</th>\n",
       "      <th>q1_len</th>\n",
       "      <th>q2_len</th>\n",
       "      <th>q1_num_words</th>\n",
       "      <th>q2_num_words</th>\n",
       "      <th>word_common</th>\n",
       "      <th>word_total</th>\n",
       "      <th>word_share</th>\n",
       "      <th>0</th>\n",
       "      <th>1</th>\n",
       "      <th>...</th>\n",
       "      <th>2990</th>\n",
       "      <th>2991</th>\n",
       "      <th>2992</th>\n",
       "      <th>2993</th>\n",
       "      <th>2994</th>\n",
       "      <th>2995</th>\n",
       "      <th>2996</th>\n",
       "      <th>2997</th>\n",
       "      <th>2998</th>\n",
       "      <th>2999</th>\n",
       "    </tr>\n",
       "  </thead>\n",
       "  <tbody>\n",
       "    <tr>\n",
       "      <th>278</th>\n",
       "      <td>1</td>\n",
       "      <td>46</td>\n",
       "      <td>33</td>\n",
       "      <td>9</td>\n",
       "      <td>6</td>\n",
       "      <td>2</td>\n",
       "      <td>14</td>\n",
       "      <td>0.14</td>\n",
       "      <td>0</td>\n",
       "      <td>0</td>\n",
       "      <td>...</td>\n",
       "      <td>0</td>\n",
       "      <td>0</td>\n",
       "      <td>0</td>\n",
       "      <td>0</td>\n",
       "      <td>0</td>\n",
       "      <td>0</td>\n",
       "      <td>0</td>\n",
       "      <td>0</td>\n",
       "      <td>0</td>\n",
       "      <td>0</td>\n",
       "    </tr>\n",
       "    <tr>\n",
       "      <th>492</th>\n",
       "      <td>0</td>\n",
       "      <td>93</td>\n",
       "      <td>95</td>\n",
       "      <td>15</td>\n",
       "      <td>16</td>\n",
       "      <td>1</td>\n",
       "      <td>30</td>\n",
       "      <td>0.03</td>\n",
       "      <td>0</td>\n",
       "      <td>0</td>\n",
       "      <td>...</td>\n",
       "      <td>0</td>\n",
       "      <td>0</td>\n",
       "      <td>0</td>\n",
       "      <td>0</td>\n",
       "      <td>0</td>\n",
       "      <td>0</td>\n",
       "      <td>0</td>\n",
       "      <td>0</td>\n",
       "      <td>0</td>\n",
       "      <td>0</td>\n",
       "    </tr>\n",
       "    <tr>\n",
       "      <th>1266</th>\n",
       "      <td>1</td>\n",
       "      <td>39</td>\n",
       "      <td>37</td>\n",
       "      <td>9</td>\n",
       "      <td>9</td>\n",
       "      <td>7</td>\n",
       "      <td>18</td>\n",
       "      <td>0.39</td>\n",
       "      <td>0</td>\n",
       "      <td>0</td>\n",
       "      <td>...</td>\n",
       "      <td>0</td>\n",
       "      <td>0</td>\n",
       "      <td>0</td>\n",
       "      <td>0</td>\n",
       "      <td>0</td>\n",
       "      <td>0</td>\n",
       "      <td>0</td>\n",
       "      <td>0</td>\n",
       "      <td>0</td>\n",
       "      <td>0</td>\n",
       "    </tr>\n",
       "    <tr>\n",
       "      <th>557</th>\n",
       "      <td>0</td>\n",
       "      <td>72</td>\n",
       "      <td>63</td>\n",
       "      <td>14</td>\n",
       "      <td>9</td>\n",
       "      <td>1</td>\n",
       "      <td>22</td>\n",
       "      <td>0.05</td>\n",
       "      <td>0</td>\n",
       "      <td>0</td>\n",
       "      <td>...</td>\n",
       "      <td>0</td>\n",
       "      <td>0</td>\n",
       "      <td>0</td>\n",
       "      <td>0</td>\n",
       "      <td>0</td>\n",
       "      <td>0</td>\n",
       "      <td>0</td>\n",
       "      <td>0</td>\n",
       "      <td>0</td>\n",
       "      <td>0</td>\n",
       "    </tr>\n",
       "    <tr>\n",
       "      <th>871</th>\n",
       "      <td>1</td>\n",
       "      <td>47</td>\n",
       "      <td>59</td>\n",
       "      <td>8</td>\n",
       "      <td>10</td>\n",
       "      <td>5</td>\n",
       "      <td>18</td>\n",
       "      <td>0.28</td>\n",
       "      <td>0</td>\n",
       "      <td>0</td>\n",
       "      <td>...</td>\n",
       "      <td>0</td>\n",
       "      <td>0</td>\n",
       "      <td>0</td>\n",
       "      <td>0</td>\n",
       "      <td>0</td>\n",
       "      <td>0</td>\n",
       "      <td>0</td>\n",
       "      <td>0</td>\n",
       "      <td>0</td>\n",
       "      <td>0</td>\n",
       "    </tr>\n",
       "  </tbody>\n",
       "</table>\n",
       "<p>5 rows × 6008 columns</p>\n",
       "</div>"
      ],
      "text/plain": [
       "      is_duplicate  q1_len  q2_len  q1_num_words  q2_num_words  word_common  \\\n",
       "278              1      46      33             9             6            2   \n",
       "492              0      93      95            15            16            1   \n",
       "1266             1      39      37             9             9            7   \n",
       "557              0      72      63            14             9            1   \n",
       "871              1      47      59             8            10            5   \n",
       "\n",
       "      word_total  word_share  0  1  ...  2990  2991  2992  2993  2994  2995  \\\n",
       "278           14        0.14  0  0  ...     0     0     0     0     0     0   \n",
       "492           30        0.03  0  0  ...     0     0     0     0     0     0   \n",
       "1266          18        0.39  0  0  ...     0     0     0     0     0     0   \n",
       "557           22        0.05  0  0  ...     0     0     0     0     0     0   \n",
       "871           18        0.28  0  0  ...     0     0     0     0     0     0   \n",
       "\n",
       "      2996  2997  2998  2999  \n",
       "278      0     0     0     0  \n",
       "492      0     0     0     0  \n",
       "1266     0     0     0     0  \n",
       "557      0     0     0     0  \n",
       "871      0     0     0     0  \n",
       "\n",
       "[5 rows x 6008 columns]"
      ]
     },
     "execution_count": 47,
     "metadata": {},
     "output_type": "execute_result"
    }
   ],
   "source": [
    "final_df = pd.concat([final_df, temp_df], axis=1)\n",
    "print(final_df.shape)\n",
    "final_df.head()"
   ]
  },
  {
   "cell_type": "code",
   "execution_count": 56,
   "id": "d4294889",
   "metadata": {},
   "outputs": [],
   "source": [
    "from sklearn.model_selection import train_test_split\n",
    "X_train,X_test,y_train,y_test = train_test_split(final_df.iloc[:,1:].values,final_df.iloc[:,0].values,test_size=0.2,random_state=1)"
   ]
  },
  {
   "cell_type": "code",
   "execution_count": 57,
   "id": "7bfebca0",
   "metadata": {},
   "outputs": [
    {
     "data": {
      "text/plain": [
       "0.6725"
      ]
     },
     "execution_count": 57,
     "metadata": {},
     "output_type": "execute_result"
    }
   ],
   "source": [
    "from sklearn.ensemble import RandomForestClassifier\n",
    "from sklearn.metrics import accuracy_score\n",
    "rf = RandomForestClassifier()\n",
    "rf.fit(X_train,y_train)\n",
    "y_pred = rf.predict(X_test)\n",
    "accuracy_score(y_test,y_pred)"
   ]
  },
  {
   "cell_type": "code",
   "execution_count": 58,
   "id": "d449d53a",
   "metadata": {},
   "outputs": [
    {
     "data": {
      "text/plain": [
       "0.685"
      ]
     },
     "execution_count": 58,
     "metadata": {},
     "output_type": "execute_result"
    }
   ],
   "source": [
    "from xgboost import XGBClassifier\n",
    "xgb = XGBClassifier()\n",
    "xgb.fit(X_train,y_train)\n",
    "y_pred = xgb.predict(X_test)\n",
    "accuracy_score(y_test,y_pred)"
   ]
  },
  {
   "cell_type": "code",
   "execution_count": null,
   "id": "4da0e3fb",
   "metadata": {},
   "outputs": [],
   "source": []
  }
 ],
 "metadata": {
  "kernelspec": {
   "display_name": "Python 3 (ipykernel)",
   "language": "python",
   "name": "python3"
  },
  "language_info": {
   "codemirror_mode": {
    "name": "ipython",
    "version": 3
   },
   "file_extension": ".py",
   "mimetype": "text/x-python",
   "name": "python",
   "nbconvert_exporter": "python",
   "pygments_lexer": "ipython3",
   "version": "3.9.6"
  }
 },
 "nbformat": 4,
 "nbformat_minor": 5
}
